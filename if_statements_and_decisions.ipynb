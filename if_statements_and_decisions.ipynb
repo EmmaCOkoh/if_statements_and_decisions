{
 "cells": [
  {
   "cell_type": "markdown",
   "id": "4f561d08-9aa8-4a31-814c-10a78d435089",
   "metadata": {},
   "source": [
    "### if statement"
   ]
  },
  {
   "cell_type": "code",
   "execution_count": 5,
   "id": "dc4d47bf-c736-4346-a3cc-eb0b8305b610",
   "metadata": {},
   "outputs": [
    {
     "name": "stdout",
     "output_type": "stream",
     "text": [
      "You're an adult\n"
     ]
    }
   ],
   "source": [
    "age = 20\n",
    "if age >= 18:\n",
    "    print(\"You're an adult\")"
   ]
  },
  {
   "cell_type": "markdown",
   "id": "72dbbb20-ac29-4811-89a9-71697a96b51f",
   "metadata": {},
   "source": [
    "### else statement"
   ]
  },
  {
   "cell_type": "code",
   "execution_count": 8,
   "id": "e0e25277-1827-427a-a88a-b4151008d3d4",
   "metadata": {},
   "outputs": [
    {
     "name": "stdout",
     "output_type": "stream",
     "text": [
      "You're still a teenager\n"
     ]
    }
   ],
   "source": [
    "age = 11\n",
    "if age>= 18:\n",
    "    print(\"You're an adult\")\n",
    "else:\n",
    "    print(\"You're still a teenager\")"
   ]
  },
  {
   "cell_type": "markdown",
   "id": "f6b9bd64-0ec9-4722-a9d6-ba937cd9b7ef",
   "metadata": {},
   "source": [
    "### else if statement"
   ]
  },
  {
   "cell_type": "code",
   "execution_count": 12,
   "id": "8cc39851-2f79-4cac-8d15-a1bf374385a4",
   "metadata": {},
   "outputs": [
    {
     "name": "stdout",
     "output_type": "stream",
     "text": [
      "You're a kid\n"
     ]
    }
   ],
   "source": [
    "age = 12\n",
    "if age>= 18:\n",
    "    print(\"You're an adult\")\n",
    "elif age>= 13:\n",
    "    print(\"You're a teenager\")\n",
    "else: \n",
    "    print(\"You're a kid\")"
   ]
  },
  {
   "cell_type": "markdown",
   "id": "a1cb8903-afec-4b0e-9b85-df1c15dbc463",
   "metadata": {},
   "source": [
    "### Practice 1: Driving Age Checker"
   ]
  },
  {
   "cell_type": "code",
   "execution_count": 13,
   "id": "54d1f175-7dcd-42a0-81f3-b289806173be",
   "metadata": {},
   "outputs": [
    {
     "name": "stdin",
     "output_type": "stream",
     "text": [
      "How old are you? 15\n"
     ]
    },
    {
     "name": "stdout",
     "output_type": "stream",
     "text": [
      "Not yet! wait a bit\n"
     ]
    }
   ],
   "source": [
    "age = int(input(\"How old are you?\"))\n",
    "if age >=18:\n",
    "    print(\"You can drive!\")\n",
    "else:\n",
    "    print(\"Not yet! wait a bit\")"
   ]
  },
  {
   "cell_type": "markdown",
   "id": "3d068546-95f6-44cc-b90b-04889f40a99c",
   "metadata": {},
   "source": [
    "### Practice 2: Voting Age"
   ]
  },
  {
   "cell_type": "code",
   "execution_count": 14,
   "id": "df9a6e06-28a0-4bf3-90c9-80edacc2ff3a",
   "metadata": {},
   "outputs": [
    {
     "name": "stdin",
     "output_type": "stream",
     "text": [
      "How old are you 15\n"
     ]
    },
    {
     "name": "stdout",
     "output_type": "stream",
     "text": [
      "Sorry you can not vote yet\n"
     ]
    }
   ],
   "source": [
    "age = int(input(\"How old are you\"))\n",
    "if age >=18:\n",
    "    print(\"You can vote\")\n",
    "else: \n",
    "    print(\"Sorry you can not vote yet\")"
   ]
  },
  {
   "cell_type": "markdown",
   "id": "15b7565e-e6f7-48cc-87e3-18e1ca6874b1",
   "metadata": {},
   "source": [
    "### Practice 3: Number Checker"
   ]
  },
  {
   "cell_type": "code",
   "execution_count": 16,
   "id": "825486e1-53df-4f4e-bb16-09ee6d8f6454",
   "metadata": {},
   "outputs": [
    {
     "name": "stdin",
     "output_type": "stream",
     "text": [
      "Type a number here 5\n"
     ]
    },
    {
     "name": "stdout",
     "output_type": "stream",
     "text": [
      "That is a positive number\n"
     ]
    }
   ],
   "source": [
    "number = int(input(\"Type a number here\"))\n",
    "if number > 0:\n",
    "    print(\"That is a positive number\")\n",
    "elif number < 0:\n",
    "    print(\"That is a negative number\")\n",
    "else:\n",
    "    print(\"Its a zero\")"
   ]
  },
  {
   "cell_type": "markdown",
   "id": "c7688bfb-2e64-40bf-940b-2a8543816ec4",
   "metadata": {},
   "source": [
    "### Practice 4: Yes or No Outcome"
   ]
  },
  {
   "cell_type": "code",
   "execution_count": 27,
   "id": "bb289ae3-8223-45a4-9b09-8643f8af615a",
   "metadata": {},
   "outputs": [
    {
     "name": "stdin",
     "output_type": "stream",
     "text": [
      "Do you like python? (yes/no) no\n"
     ]
    },
    {
     "name": "stdout",
     "output_type": "stream",
     "text": [
      "You will love it soon\n"
     ]
    }
   ],
   "source": [
    "answer = input(\"Do you like python? (yes/no)\")\n",
    "if answer == \"yes\":\n",
    "    print (\"Yay you are a coder\")\n",
    "else:\n",
    "    print (\"You will love it soon\")"
   ]
  },
  {
   "cell_type": "markdown",
   "id": "13df0b85-6b45-4f03-98e7-2c1d8e086068",
   "metadata": {},
   "source": [
    "### Smart Age Assistant"
   ]
  },
  {
   "cell_type": "code",
   "execution_count": 28,
   "id": "979b1091-fa5f-4db7-8350-7c479d5bc29e",
   "metadata": {},
   "outputs": [
    {
     "name": "stdin",
     "output_type": "stream",
     "text": [
      "Enter your age here: 15\n"
     ]
    },
    {
     "name": "stdout",
     "output_type": "stream",
     "text": [
      "You can not drive\n",
      "You can not vote\n",
      "You can not watch PG-18 movies\n"
     ]
    }
   ],
   "source": [
    "age = int(input(\"Enter your age here:\"))\n",
    "if age >= 18:\n",
    "    print(\"You can drive\")\n",
    "    print(\"You can vote\")\n",
    "    print(\"You can watch PG-18 movies\")\n",
    "elif age >= 17:\n",
    "    print(\"You can watch PG-18 movies\")\n",
    "    print(\"You can not drive yet\")\n",
    "    print(\"You can not vote\")\n",
    "else:\n",
    "    print(\"You can not drive\")\n",
    "    print(\"You can not vote\")\n",
    "    print(\"You can not watch PG-18 movies\")"
   ]
  },
  {
   "cell_type": "code",
   "execution_count": null,
   "id": "9e787d9d-500b-4d9a-9a9f-630f56448c7a",
   "metadata": {},
   "outputs": [],
   "source": []
  }
 ],
 "metadata": {
  "kernelspec": {
   "display_name": "Python 3 (ipykernel)",
   "language": "python",
   "name": "python3"
  },
  "language_info": {
   "codemirror_mode": {
    "name": "ipython",
    "version": 3
   },
   "file_extension": ".py",
   "mimetype": "text/x-python",
   "name": "python",
   "nbconvert_exporter": "python",
   "pygments_lexer": "ipython3",
   "version": "3.12.3"
  }
 },
 "nbformat": 4,
 "nbformat_minor": 5
}
